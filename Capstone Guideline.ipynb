{
 "cells": [
  {
   "cell_type": "markdown",
   "metadata": {},
   "source": [
    "**Capstone Guideline : Named Entity Recognition Service**"
   ]
  },
  {
   "cell_type": "markdown",
   "metadata": {},
   "source": [
    "___"
   ]
  },
  {
   "cell_type": "markdown",
   "metadata": {},
   "source": [
    "Checkpoints : \n",
    "1. Instalasi : 1 poin - Donde\n",
    "2. Membuat dan menggunakan model entity recognition : 2 poin - Done\n",
    "4. Membuat api untuk aplikasi entity recognition dengan tampilan web : 2 poin - Done\n",
    "5. Membuat api untuk aplikasi entity recognition tanpa tampilan web : 9 poin - Done\n",
    "6. Melakukan deployment aplikasi pada remote host : 2 poin"
   ]
  },
  {
   "cell_type": "markdown",
   "metadata": {},
   "source": [
    "# Instalasi "
   ]
  },
  {
   "cell_type": "markdown",
   "metadata": {},
   "source": [
    "Untuk membuat flask named entity recognition, kita dapat menggunakan libary : \n",
    "- flask : untuk membuat aplikasi / microservice (install : `pip install flask`)\n",
    "- pandas : tools data analysis, digunakan selama pembuatan fitur aplikasi  (install : `pip install pandas`)\n",
    "- spacy : model bahasa (install : `pip install spacy`)\n",
    "- en_core_web_md : kamus bahasa yang akan digunakan spacy (install : `python -m spacy download en_core_web_md` atau `pip install https://github.com/explosion/spacy-models/releases/download/en_core_web_md-3.0.0/en_core_web_md-3.0.0.tar.gz`)\n",
    "\n",
    "- requests : tools untuk mengirim dan menerima paket, digunakan untuk menguji aplikasi yang sudah dibuat (built-in python)"
   ]
  },
  {
   "cell_type": "code",
   "execution_count": 1,
   "metadata": {
    "ExecuteTime": {
     "end_time": "2021-03-05T03:12:14.229417Z",
     "start_time": "2021-03-05T03:12:13.377381Z"
    }
   },
   "outputs": [],
   "source": [
    "from flask import Flask,render_template,url_for,request\n",
    "import pandas as pd\n",
    "import spacy\n",
    "from spacy import displacy\n",
    "import en_core_web_md\n",
    "import requests"
   ]
  },
  {
   "cell_type": "markdown",
   "metadata": {},
   "source": [
    "# Membuat dan Menggunakan Model NER"
   ]
  },
  {
   "cell_type": "markdown",
   "metadata": {},
   "source": [
    "Sebelum memodelkan bahasa /teks, hal pertama yang dibutuhkan adalah membuat model tersebut. Spacy memudahkan kita dengan memberikan model yang sudah dibuat. \n",
    "\n",
    "Jalankan sintaks berikut untuk meload model bahasa tersebut"
   ]
  },
  {
   "cell_type": "code",
   "execution_count": 2,
   "metadata": {
    "ExecuteTime": {
     "end_time": "2021-03-05T03:12:17.089773Z",
     "start_time": "2021-03-05T03:12:15.537257Z"
    }
   },
   "outputs": [],
   "source": [
    "# load model bahasa spacy\n",
    "nlp = en_core_web_md.load()"
   ]
  },
  {
   "cell_type": "markdown",
   "metadata": {},
   "source": [
    "Setelah memiliki model, komponen penting berikutnya dalah data yang akan dimodelkan. Dalam hal ini, kami memberi contoh sample buku Sherlock Holmes dan teks random sebagai data yang akan dimodelkan. "
   ]
  },
  {
   "cell_type": "code",
   "execution_count": 3,
   "metadata": {
    "ExecuteTime": {
     "end_time": "2021-03-05T03:12:21.033345Z",
     "start_time": "2021-03-05T03:12:21.028722Z"
    }
   },
   "outputs": [],
   "source": [
    "# load teks sherlock holmes\n",
    "# f = open('sherlock_holmes.txt', 'r')\n",
    "# sherlock_holmes = f.read().replace('\\n', ' ')\n",
    "# f.close()\n",
    "\n",
    "# jika tidak ingin teks yang panjang, bisa gunakan contoh teks sendiri \n",
    "text = \"\"\"This text is an example used for Algoritma's Capstone API Project. \n",
    "You can use any named entitiy such person name like Nicola Tesla, Steve Jobs, or even Elon Musk. \n",
    "Please mind that the model is trained on formal writing, thus slang will less likely to be recognized correctly.\"\"\"\n"
   ]
  },
  {
   "cell_type": "markdown",
   "metadata": {},
   "source": [
    "Untuk menggunakan model Entity Recognition milik spacy, cukup masukkan teks sebagai parameter dalam membuat object bahasa seperti contoh berikut: "
   ]
  },
  {
   "cell_type": "code",
   "execution_count": 4,
   "metadata": {
    "ExecuteTime": {
     "end_time": "2021-03-05T03:12:22.718147Z",
     "start_time": "2021-03-05T03:12:22.675758Z"
    }
   },
   "outputs": [],
   "source": [
    "doc = nlp(text)"
   ]
  },
  {
   "cell_type": "markdown",
   "metadata": {},
   "source": [
    "Untuk menampilkan nilai dari teks tersebut, panggil objek `doc` kembali"
   ]
  },
  {
   "cell_type": "code",
   "execution_count": 5,
   "metadata": {
    "ExecuteTime": {
     "end_time": "2021-03-05T03:12:24.870966Z",
     "start_time": "2021-03-05T03:12:24.851685Z"
    }
   },
   "outputs": [
    {
     "data": {
      "text/plain": [
       "This text is an example used for Algoritma's Capstone API Project. \n",
       "You can use any named entitiy such person name like Nicola Tesla, Steve Jobs, or even Elon Musk. \n",
       "Please mind that the model is trained on formal writing, thus slang will less likely to be recognized correctly."
      ]
     },
     "execution_count": 5,
     "metadata": {},
     "output_type": "execute_result"
    }
   ],
   "source": [
    "doc"
   ]
  },
  {
   "cell_type": "markdown",
   "metadata": {},
   "source": [
    "Untuk mengakes seluruh element entitas , jalankan sintaks berikut : \n"
   ]
  },
  {
   "cell_type": "code",
   "execution_count": 6,
   "metadata": {
    "ExecuteTime": {
     "end_time": "2021-03-05T03:12:26.672744Z",
     "start_time": "2021-03-05T03:12:26.662004Z"
    }
   },
   "outputs": [],
   "source": [
    "# membuat pasangan label dan nilai entitas\n",
    "d = [(ent.label_, ent.text) for ent in doc.ents]\n",
    "\n",
    "# transform pasangan label menjadi dataframe \n",
    "df = pd.DataFrame(d, columns=['category', 'value'])"
   ]
  },
  {
   "cell_type": "code",
   "execution_count": 7,
   "metadata": {
    "ExecuteTime": {
     "end_time": "2021-03-05T03:12:28.331656Z",
     "start_time": "2021-03-05T03:12:28.299028Z"
    }
   },
   "outputs": [
    {
     "data": {
      "text/html": [
       "<div>\n",
       "<style scoped>\n",
       "    .dataframe tbody tr th:only-of-type {\n",
       "        vertical-align: middle;\n",
       "    }\n",
       "\n",
       "    .dataframe tbody tr th {\n",
       "        vertical-align: top;\n",
       "    }\n",
       "\n",
       "    .dataframe thead th {\n",
       "        text-align: right;\n",
       "    }\n",
       "</style>\n",
       "<table border=\"1\" class=\"dataframe\">\n",
       "  <thead>\n",
       "    <tr style=\"text-align: right;\">\n",
       "      <th></th>\n",
       "      <th>category</th>\n",
       "      <th>value</th>\n",
       "    </tr>\n",
       "  </thead>\n",
       "  <tbody>\n",
       "    <tr>\n",
       "      <th>0</th>\n",
       "      <td>ORG</td>\n",
       "      <td>Algoritma</td>\n",
       "    </tr>\n",
       "    <tr>\n",
       "      <th>1</th>\n",
       "      <td>ORG</td>\n",
       "      <td>Capstone API Project</td>\n",
       "    </tr>\n",
       "    <tr>\n",
       "      <th>2</th>\n",
       "      <td>PERSON</td>\n",
       "      <td>Nicola Tesla</td>\n",
       "    </tr>\n",
       "    <tr>\n",
       "      <th>3</th>\n",
       "      <td>PERSON</td>\n",
       "      <td>Steve Jobs</td>\n",
       "    </tr>\n",
       "  </tbody>\n",
       "</table>\n",
       "</div>"
      ],
      "text/plain": [
       "  category                 value\n",
       "0      ORG             Algoritma\n",
       "1      ORG  Capstone API Project\n",
       "2   PERSON          Nicola Tesla\n",
       "3   PERSON            Steve Jobs"
      ]
     },
     "execution_count": 7,
     "metadata": {},
     "output_type": "execute_result"
    }
   ],
   "source": [
    "df"
   ]
  },
  {
   "cell_type": "markdown",
   "metadata": {},
   "source": [
    "# Membuat API NER dengan tampilan Web "
   ]
  },
  {
   "cell_type": "markdown",
   "metadata": {},
   "source": [
    "## app.py"
   ]
  },
  {
   "cell_type": "markdown",
   "metadata": {},
   "source": [
    "Untuk membuat aplikasi NER dengan flask, silakan **lengkapi code berikut** dan salin kedalam file `app.py`."
   ]
  },
  {
   "cell_type": "code",
   "execution_count": 8,
   "metadata": {
    "ExecuteTime": {
     "end_time": "2021-03-05T03:03:24.869070Z",
     "start_time": "2021-03-05T03:03:22.512527Z"
    }
   },
   "outputs": [
    {
     "name": "stdout",
     "output_type": "stream",
     "text": [
      " * Serving Flask app \"__main__\" (lazy loading)\n",
      " * Environment: production\n",
      "\u001b[31m   WARNING: This is a development server. Do not use it in a production deployment.\u001b[0m\n",
      "\u001b[2m   Use a production WSGI server instead.\u001b[0m\n",
      " * Debug mode: on\n"
     ]
    },
    {
     "name": "stderr",
     "output_type": "stream",
     "text": [
      " * Running on http://127.0.0.1:5000/ (Press CTRL+C to quit)\n",
      " * Restarting with stat\n"
     ]
    },
    {
     "ename": "SystemExit",
     "evalue": "1",
     "output_type": "error",
     "traceback": [
      "An exception has occurred, use %tb to see the full traceback.\n",
      "\u001b[0;31mSystemExit\u001b[0m\u001b[0;31m:\u001b[0m 1\n"
     ]
    },
    {
     "name": "stderr",
     "output_type": "stream",
     "text": [
      "/home/victor/miniconda3/envs/dwv-newton/lib/python3.7/site-packages/IPython/core/interactiveshell.py:3426: UserWarning: To exit: use 'exit', 'quit', or Ctrl-D.\n",
      "  warn(\"To exit: use 'exit', 'quit', or Ctrl-D.\", stacklevel=1)\n"
     ]
    }
   ],
   "source": [
    "from flask import Flask,render_template,url_for,request, jsonify\n",
    "import re\n",
    "import pandas as pd\n",
    "import spacy\n",
    "from spacy import displacy\n",
    "import en_core_web_md\n",
    "import json \n",
    "\n",
    "# @TASK : Load model bahasa \n",
    "nlp = en_core_web_md.load()\n",
    "# END OF TASK \n",
    "\n",
    "app = Flask(__name__)\n",
    "\n",
    "@app.route('/')\n",
    "def index():\n",
    "    return render_template(\"index.html\")\n",
    "\n",
    "@app.route('/process',methods=[\"POST\"])\n",
    "def process():\n",
    "    if request.method == 'POST':\n",
    "        choice = request.form['taskoption']\n",
    "        rawtext = request.form['rawtext']\n",
    "        doc = nlp(rawtext)\n",
    "        d = []\n",
    "        if len(doc.ents) > 0:\n",
    "            for ent in doc.ents:\n",
    "                d.append((ent.label_, ent.text))\n",
    "                df = pd.DataFrame(d, columns=['category', 'value'])\n",
    "\n",
    "                # @TASK : COMPLETE THE FOLLOWING CODES\n",
    "                ORG_named_entity = df.query(\"category == 'ORG'\")['value'] # Subset semua entitas dengan kategori 'ORG'\n",
    "                PERSON_named_entity = df.query(\"category == 'PERSON'\")['value'] # Subset semua entitas dengan kategori 'PERSON'\n",
    "                GPE_named_entity = df.query(\"category == 'GPE'\")['value'] # Subset semua entitas dengan kategori 'GPE'\n",
    "                MONEY_named_entity = df.query(\"category == 'MONEY'\")['value'] # Subset semua entitas dengan kategori 'MONEY'\n",
    "                # END OF TASK \n",
    "\n",
    "            if choice == 'organization':\n",
    "                results = ORG_named_entity\n",
    "                num_of_results = len(results)\n",
    "            elif choice == 'person':\n",
    "                results = PERSON_named_entity\n",
    "                num_of_results = len(results)\n",
    "            elif choice == 'geopolitical':\n",
    "                results = GPE_named_entity\n",
    "                num_of_results = len(results)\n",
    "            elif choice == 'money':\n",
    "                results = MONEY_named_entity\n",
    "                num_of_results = len(results)\n",
    "            elif choice == 'Select Category':\n",
    "                results = pd.DataFrame()\n",
    "                num_of_results = len(results)\n",
    "        else:\n",
    "            results = pd.DataFrame()\n",
    "            num_of_results = len(results)\n",
    "\n",
    "    return render_template(\"index.html\",results=results,num_of_results = num_of_results, original_text = rawtext)\n",
    "\n",
    "\n",
    "\n",
    "\n",
    "\n",
    "@app.route('/endpoint_tertentu')\n",
    "def nama_fungsi_tertentu():\n",
    "    # secara teknis, kita dapat melakukan apapun dalam fungsi ini \n",
    "    return (\"Fungsi ini akan dijalankan saat endpoint tersebut diakses\")\n",
    "\n",
    "@app.route('/endpoint_get', methods=['GET'])\n",
    "def contoh_get():\n",
    "    return (\"Contoh endpoint get\")\n",
    "\n",
    "@app.route('/endpoint_post', methods=['POST'])\n",
    "def contoh_post():\n",
    "    return (\"Contoh endpoint post\")\n",
    "\n",
    "@app.route('/endpoint_multi', methods=['GET', 'POST'])\n",
    "def multi_method():\n",
    "    if request.method == 'POST':\n",
    "        return (\"Nilai ini akan dikembalikan jika endpoint ini diakses dengan method POST\")\n",
    "    else : \n",
    "        return (\"Nilai ini akan dikembalikan jika endpoint ini diakses dengan method GET\")\n",
    "\n",
    "\n",
    "@app.route('/tes_send_json', methods=['POST'])\n",
    "def tes_send_json():\n",
    "    data = request.get_json() # proses membaca json yang dikirim \n",
    "    nama = data['nama']\n",
    "    usia = data['usia']\n",
    "    pekerjaan = data['pekerjaan']\n",
    "    return (\"Halo, {nama}. Usiamu adalah {usia} dan pekerjaanmu adalah {pekerjaan}\".format(nama=nama, usia=usia, pekerjaan=pekerjaan))\n",
    "\n",
    "@app.route('/tes_return_json', methods=['POST'])\n",
    "def tes_return_json():\n",
    "    data = request.get_json() # proses membaca json yang dikirim \n",
    "    df = pd.DataFrame([data]) # mengolah data menjadi dataframe\n",
    "\n",
    "    return (df.to_json()) # mengembalikan dataframe dalam bentuk json\n",
    "\n",
    "\n",
    "#task endpoint\n",
    "@app.route('/get_entities', methods=['POST'])\n",
    "def get_entities():\n",
    "    \n",
    "    # ambil data dari json yang diterima endpoint\n",
    "    data = request.get_json()\n",
    "    \n",
    "    # ambil nilai teks dari data\n",
    "    text = data['text']\n",
    "    \n",
    "    # modelkan teks dengan model scipy \n",
    "    doc = nlp(text)\n",
    "    \n",
    "    # membuat pasangan label dan nilai entitas\n",
    "    d = [(ent.label_, ent.text) for ent in doc.ents]\n",
    "\n",
    "    # transform pasangan label menjadi dataframe \n",
    "    df = pd.DataFrame(d, columns=['category', 'value'])\n",
    "    \n",
    "    return (df.to_json())\n",
    "\n",
    "\n",
    "#task bonus\n",
    "@app.route('/get_entities_normalized', methods=['POST'])\n",
    "def get_entities_normalizedfoo():\n",
    "    data = request.get_json() # load received json data\n",
    "    text = data['text'] # extract 'text' element \n",
    "    doc = nlp(text) #\n",
    "    d = [(ent.label_, ent.text) for ent in doc.ents]\n",
    "    df = pd.DataFrame(d, columns=['category', 'value'])\n",
    "    dictionary = {}\n",
    "    for i in df['category'].unique():\n",
    "        values = df.query(f\"category == '{i}' \")['value'].to_list()\n",
    "        dictionary[i] = values\n",
    "    return json.dumps(dictionary)\n",
    "\n",
    "\n",
    "\n",
    "if __name__ == '__main__':\n",
    "    app.run(debug=True)"
   ]
  },
  {
   "cell_type": "markdown",
   "metadata": {},
   "source": [
    "## menjalankan app.py"
   ]
  },
  {
   "cell_type": "markdown",
   "metadata": {},
   "source": [
    "Untuk menjalankan app.py, silakan buka terminal/console/anaconda prompt menuju direktori tempat app.py berada, lalu jalnkan sintaks \n",
    "`python app.py` .\n",
    "\n",
    "Jika code berjalan dengan baik, silakan buka laman yang dirujuk pada console (biasanya http://127.0.0.1:5000/) melalui browser dan aplikasi akan berjalan sesuai tampilan berikut : \n",
    "\n",
    "![](assets/default_homepage.png)"
   ]
  },
  {
   "cell_type": "markdown",
   "metadata": {},
   "source": [
    "Setelah aplikasi berjalan, silakan inputkan teks dan pilih kategori yang akan diekstrak, lalu pilih submit. Jika tidak ada eror, maka form result akan memberikan hasil kembalian berupa banyaknya entitas yang dikenali dan list entitas tersebut. "
   ]
  },
  {
   "cell_type": "markdown",
   "metadata": {},
   "source": [
    "# Membuat API NER tanpa tampilan WEB"
   ]
  },
  {
   "cell_type": "markdown",
   "metadata": {},
   "source": [
    "## Membuat Endpoint"
   ]
  },
  {
   "cell_type": "markdown",
   "metadata": {},
   "source": [
    "Dalam web service, endpoint adalah sebuah alamat spesifik yang ditujukan untuk kebutuhan khusus. \n",
    "Sebagai contoh, berikut adalah beberapa endpoint web API milik spotify : \n",
    "- https://api.spotify.com/v1/albums{id} : Digunakan untuk mengakses album dengan album id = id\n",
    "- https://api.spotify.com/v1/artists/{id} : digunakan untuk mengakses artist dengan artist id = id\n",
    "- https://api.spotify.com/v1/tracks/{id} : digunakan untuk mengakses tracks dengan track id = id\n",
    "\n",
    "Dalam flask, endpoint dinotasikan dengan `@app.route('alamat endpoint')`, diikuti dengan fungsi yang akan dijalankan. \n",
    "Sebelumnya, dalam `app.py`, kita sudah membuat sebuah endpoint home ('/') dengan sintaks : \n",
    "```python\n",
    "@app.route('/')\n",
    "def index():\n",
    "    return render_template(\"index.html\")\n",
    "```    \n",
    "\n",
    "Menggunakan sintaks diatas, ketika user mengakses aplikasi kita di menu utama, maka fungsi `index()` akan dijalankan. \n",
    "\n",
    "Sebagai contoh tambahan, coba salin sintaks berikut kedalam `app.py` dan coba akses endpoint tersebut \n",
    "\n",
    "```python\n",
    "@app.route('/endpoint_tertentu')\n",
    "def nama_fungsi_tertentu():\n",
    "    # secara teknis, kita dapat melakukan apapun dalam fungsi ini \n",
    "    return (\"Fungsi ini akan dijalankan saat endpoint tersebut diakses\")\n",
    "```\n",
    "\n",
    "\n",
    "**notes**: nama fungsi dalam aplikasi flask harus unik. "
   ]
  },
  {
   "cell_type": "markdown",
   "metadata": {},
   "source": [
    "## Endpoint Methods"
   ]
  },
  {
   "cell_type": "markdown",
   "metadata": {},
   "source": [
    "Senada dengan konsep CRUD (Create, Read, Update, Delete) dalam database, dalam API konsep tersebut diadopsi menjadi :\n",
    "- POST(CREATE),\n",
    "- GET(READ),\n",
    "- PUT(UPDATE),\n",
    "- DELETE\n",
    "\n",
    "Secara konsep, method POST, GET, PUT, dan DELETE dibuat untuk mengatur API agar dapat lebih terstruktur. Meskipun pada prakterknya, endpoint yang kita definisikan menggunakan method \"POST\" tidaklah harus untuk membuat data. Artinya, tidak ada aturan yang mengharuskan kita untuk menuliskan jenis method dalam setiap endpoints kita (default endpoints menggunakan method GET).\n",
    "\n",
    "Dalam capstone ini, kita hanya akan berfokus pada 2 jenis method, GET dan POST. Sebagai contoh tambahan, silakan salin sintaks enspoint berikut kedalma `app.py`, lalu jalankan ulang aplikasinya dan lihat perbedaan saat melakukan akses terhadap kedua endpoint tersebut. \n",
    "\n",
    "```python\n",
    "@app.route('/endpoint_get', methods=['GET'])\n",
    "def contoh_get():\n",
    "    return (\"Contoh endpoint get\")\n",
    "    \n",
    "@app.route('/endpoint_post', methods=['POST'])\n",
    "def contoh_post():\n",
    "    return (\"Contoh endpoint post\")\n",
    "    \n",
    "@app.route('/endpoint_multi', methods=['GET', 'POST'])\n",
    "def multi_method():\n",
    "    if request.method == 'POST':\n",
    "        return (\"Nilai ini akan dikembalikan jika endpoint ini diakses dengan method POST\")\n",
    "    else : \n",
    "        return (\"Nilai ini akan dikembalikan jika endpoint ini diakses dengan method GET\")\n",
    "```\n"
   ]
  },
  {
   "cell_type": "markdown",
   "metadata": {},
   "source": [
    "**Note : Secara default, mengakses endpoint melaui browser akan menggunakan method 'GET'**. \n",
    "\n",
    "Untuk mempermudah pengujian, disarankan untuk menggunakan tools lain seperti \"postman\", atau menggunakan python. \n"
   ]
  },
  {
   "cell_type": "markdown",
   "metadata": {},
   "source": [
    "## Mengakses endpoint menggunakan python"
   ]
  },
  {
   "cell_type": "markdown",
   "metadata": {},
   "source": [
    "Dalam banyak kasus, web API tidak dipanggil melalui browser, melainkan pada level aplikasi / code. Untuk mengakses web api menggunakan python, gunakan `curl` atau `requests`. Code berikut akan mengakses endpoint yang sama dengan method yang berbeda: "
   ]
  },
  {
   "cell_type": "code",
   "execution_count": 9,
   "metadata": {
    "ExecuteTime": {
     "end_time": "2021-03-05T03:12:39.796395Z",
     "start_time": "2021-03-05T03:12:39.770628Z"
    }
   },
   "outputs": [],
   "source": [
    "import requests\n",
    "response_post = requests.request(method='POST', url='http://localhost:5000/endpoint_multi')\n",
    "response_get = requests.request(method='GET', url='http://localhost:5000/endpoint_multi')"
   ]
  },
  {
   "cell_type": "markdown",
   "metadata": {},
   "source": [
    "Respon dari sebuah service web API dibungkus dalam http response. Jika objek `response_post` dipanggil, maka yang tampil adalah nilai kode status repons tersebut (silakan merujuk referensi HTTP response code untuk informasi lebih lengkap) : "
   ]
  },
  {
   "cell_type": "code",
   "execution_count": 10,
   "metadata": {
    "ExecuteTime": {
     "end_time": "2021-03-05T03:12:40.470865Z",
     "start_time": "2021-03-05T03:12:40.462440Z"
    }
   },
   "outputs": [
    {
     "data": {
      "text/plain": [
       "<Response [200]>"
      ]
     },
     "execution_count": 10,
     "metadata": {},
     "output_type": "execute_result"
    }
   ],
   "source": [
    "response_post"
   ]
  },
  {
   "cell_type": "code",
   "execution_count": 11,
   "metadata": {
    "ExecuteTime": {
     "end_time": "2021-03-05T03:12:40.876429Z",
     "start_time": "2021-03-05T03:12:40.869637Z"
    }
   },
   "outputs": [
    {
     "data": {
      "text/plain": [
       "200"
      ]
     },
     "execution_count": 11,
     "metadata": {},
     "output_type": "execute_result"
    }
   ],
   "source": [
    "# secara eksplisit mengambil atribut status code dari objek response\n",
    "response_post.status_code"
   ]
  },
  {
   "cell_type": "markdown",
   "metadata": {},
   "source": [
    "Untuk dapat mengambil konten dari nilai yang diterima, akses atribut .text atau .json jika nilai yang diterima berupa json"
   ]
  },
  {
   "cell_type": "code",
   "execution_count": 12,
   "metadata": {
    "ExecuteTime": {
     "end_time": "2021-03-05T03:12:41.673832Z",
     "start_time": "2021-03-05T03:12:41.664599Z"
    }
   },
   "outputs": [
    {
     "data": {
      "text/plain": [
       "'Nilai ini akan dikembalikan jika endpoint ini diakses dengan method POST'"
      ]
     },
     "execution_count": 12,
     "metadata": {},
     "output_type": "execute_result"
    }
   ],
   "source": [
    "response_post.text"
   ]
  },
  {
   "cell_type": "code",
   "execution_count": 13,
   "metadata": {
    "ExecuteTime": {
     "end_time": "2021-03-05T03:12:42.124566Z",
     "start_time": "2021-03-05T03:12:42.117343Z"
    }
   },
   "outputs": [
    {
     "data": {
      "text/plain": [
       "'Nilai ini akan dikembalikan jika endpoint ini diakses dengan method GET'"
      ]
     },
     "execution_count": 13,
     "metadata": {},
     "output_type": "execute_result"
    }
   ],
   "source": [
    "response_get.text"
   ]
  },
  {
   "cell_type": "markdown",
   "metadata": {},
   "source": [
    "Referensi : [HTTP response code, by mozilla](https://developer.mozilla.org/id/docs/Web/HTTP/Status)"
   ]
  },
  {
   "cell_type": "markdown",
   "metadata": {},
   "source": [
    "## Mengirim data ke endpoint"
   ]
  },
  {
   "cell_type": "markdown",
   "metadata": {},
   "source": [
    "Untuk melakukan ekstraksi entitas terhadap data yang kita miliki pada layanan web api, kita harus mengirimkan data tersebut melalui protokol http. \n",
    "Method API yang biasa digunakan dalam melayani request tersebut adalah POST. \n",
    "Agar data dapat dikirim dengan baik, data harus dikirim dalam bentuk objek JSON (JSON dalam python = Dictionary). \n",
    "\n",
    "\n",
    "Sebagai contoh, sintaks berikut akan mengirimkan data json kedalam endpoint yang dituju. "
   ]
  },
  {
   "cell_type": "code",
   "execution_count": 14,
   "metadata": {
    "ExecuteTime": {
     "end_time": "2021-03-05T03:12:43.768779Z",
     "start_time": "2021-03-05T03:12:43.751171Z"
    }
   },
   "outputs": [],
   "source": [
    "# membuat data yang akan dikirim (dalam bentuk dictionary)\n",
    "data_yang_akan_dikirim = {\n",
    "    'nama' : 'Steve', \n",
    "    'usia' : 12, \n",
    "    'pekerjaan' : 'Data Scientist'\n",
    "}\n",
    "\n",
    "# endpoint yang akan dituju\n",
    "endpoint = 'http://localhost:5000/tes_send_json'\n",
    "\n",
    "# mengeksekusi request\n",
    "response = requests.request(method='POST', url=endpoint, json=data_yang_akan_dikirim)"
   ]
  },
  {
   "cell_type": "code",
   "execution_count": 15,
   "metadata": {
    "ExecuteTime": {
     "end_time": "2021-03-05T03:12:44.140304Z",
     "start_time": "2021-03-05T03:12:44.132207Z"
    }
   },
   "outputs": [
    {
     "data": {
      "text/plain": [
       "<Response [200]>"
      ]
     },
     "execution_count": 15,
     "metadata": {},
     "output_type": "execute_result"
    }
   ],
   "source": [
    "response"
   ]
  },
  {
   "cell_type": "markdown",
   "metadata": {},
   "source": [
    "Jika dijalankan, sintaks diatas tentu akan menghasilkan error. Hal ini dikarenakan pada aplikasi kita belum terdapat endpoint `'/send_json'`. \n",
    "Ikuti langkah berikutnya untuk membuat endpoint yang dapat menerima objek yang kita kirim tersebut "
   ]
  },
  {
   "cell_type": "markdown",
   "metadata": {},
   "source": [
    "## Membuat endpoint yang menerima data"
   ]
  },
  {
   "cell_type": "markdown",
   "metadata": {},
   "source": [
    "Untuk membaca data yang dikirimkan pada endpoint tertentu, kita dapat menggunakan method method `request.get_json()` dari flask. (Silakan merujuk ke app.py dan pastikan terdapat sintaks `from flask import request`. \n",
    "\n",
    "Silakan tambahkan endpoint dibawah ini pada `app.py` dan jalankan kembali request pada segmen sebelumnya"
   ]
  },
  {
   "cell_type": "markdown",
   "metadata": {},
   "source": [
    "```python\n",
    "@app.route('/tes_send_json', methods=['POST'])\n",
    "def tes_send_json():\n",
    "    data = request.get_json() # proses membaca json yang dikirim \n",
    "    nama = data['nama']\n",
    "    usia = data['usia']\n",
    "    pekerjaan = data['pekerjaan']\n",
    "    \n",
    "    return (\"Halo, {nama}. Usiamu adalah {usia} dan pekerjaanmu adalah {pekerjaan}\".format(nama=nama, usia=usia, pekerjaan=pekerjaan))\n",
    "```"
   ]
  },
  {
   "cell_type": "code",
   "execution_count": 16,
   "metadata": {
    "ExecuteTime": {
     "end_time": "2021-03-05T03:12:45.930603Z",
     "start_time": "2021-03-05T03:12:45.912131Z"
    }
   },
   "outputs": [],
   "source": [
    "# coba jalankan request di segment sebelumnya\n",
    "\n",
    "data_yang_akan_dikirim = {\n",
    "    'nama' : 'Steve', \n",
    "    'usia' : 12, \n",
    "    'pekerjaan' : 'Data Scientist'\n",
    "}\n",
    "\n",
    "endpoint = 'http://localhost:5000/tes_send_json'\n",
    "\n",
    "response = requests.request(method='POST', url=endpoint, json=data_yang_akan_dikirim)\n"
   ]
  },
  {
   "cell_type": "code",
   "execution_count": 17,
   "metadata": {
    "ExecuteTime": {
     "end_time": "2021-03-05T03:12:46.304858Z",
     "start_time": "2021-03-05T03:12:46.299254Z"
    }
   },
   "outputs": [
    {
     "data": {
      "text/plain": [
       "'Halo, Steve. Usiamu adalah 12 dan pekerjaanmu adalah Data Scientist'"
      ]
     },
     "execution_count": 17,
     "metadata": {},
     "output_type": "execute_result"
    }
   ],
   "source": [
    "response.text"
   ]
  },
  {
   "cell_type": "markdown",
   "metadata": {},
   "source": [
    "## Mengembalikan hasil pemrosesan sebagai objek JSON dari endpoint"
   ]
  },
  {
   "cell_type": "markdown",
   "metadata": {},
   "source": [
    "Dalam beberapa kasus, analisis atau pengelolaan yang kita lakukan berakhir pada tipe data DataFrame milik pandas. Untuk mengubah DataFrame menjadi json, gunakan method `.to_json()`. Berikut adalah contoh endpoint yang mengembalikan dataframe dalam bentuk json."
   ]
  },
  {
   "cell_type": "markdown",
   "metadata": {},
   "source": [
    "```python\n",
    "@app.route('/tes_return_json', methods=['POST'])\n",
    "def tes_return_json():\n",
    "    data = request.get_json() # proses membaca json yang dikirim \n",
    "    df = pd.DataFrame([data]) # mengolah data menjadi dataframe\n",
    "\n",
    "    return (df.to_json()) # mengembalikan dataframe dalam bentuk json\n",
    "```"
   ]
  },
  {
   "cell_type": "code",
   "execution_count": 18,
   "metadata": {
    "ExecuteTime": {
     "end_time": "2021-03-05T03:12:47.786480Z",
     "start_time": "2021-03-05T03:12:47.766689Z"
    }
   },
   "outputs": [],
   "source": [
    "data_yang_akan_dikirim = {\n",
    "    'nama' : 'Steve', \n",
    "    'usia' : 12, \n",
    "    'pekerjaan' : 'Data Scientist'\n",
    "}\n",
    "\n",
    "endpoint = 'http://localhost:5000/tes_return_json'\n",
    "\n",
    "response = requests.request(method='POST', url=endpoint, json=data_yang_akan_dikirim)"
   ]
  },
  {
   "cell_type": "code",
   "execution_count": 19,
   "metadata": {
    "ExecuteTime": {
     "end_time": "2021-03-05T03:12:48.389771Z",
     "start_time": "2021-03-05T03:12:48.380932Z"
    }
   },
   "outputs": [
    {
     "data": {
      "text/plain": [
       "'{\"nama\":{\"0\":\"Steve\"},\"usia\":{\"0\":12},\"pekerjaan\":{\"0\":\"Data Scientist\"}}'"
      ]
     },
     "execution_count": 19,
     "metadata": {},
     "output_type": "execute_result"
    }
   ],
   "source": [
    "response.text"
   ]
  },
  {
   "cell_type": "code",
   "execution_count": 20,
   "metadata": {
    "ExecuteTime": {
     "end_time": "2021-03-05T03:12:48.695421Z",
     "start_time": "2021-03-05T03:12:48.689779Z"
    }
   },
   "outputs": [
    {
     "data": {
      "text/plain": [
       "{'nama': {'0': 'Steve'},\n",
       " 'usia': {'0': 12},\n",
       " 'pekerjaan': {'0': 'Data Scientist'}}"
      ]
     },
     "execution_count": 20,
     "metadata": {},
     "output_type": "execute_result"
    }
   ],
   "source": [
    "response.json()"
   ]
  },
  {
   "cell_type": "code",
   "execution_count": 21,
   "metadata": {
    "ExecuteTime": {
     "end_time": "2021-03-05T03:12:49.223550Z",
     "start_time": "2021-03-05T03:12:49.211594Z"
    }
   },
   "outputs": [
    {
     "data": {
      "text/html": [
       "<div>\n",
       "<style scoped>\n",
       "    .dataframe tbody tr th:only-of-type {\n",
       "        vertical-align: middle;\n",
       "    }\n",
       "\n",
       "    .dataframe tbody tr th {\n",
       "        vertical-align: top;\n",
       "    }\n",
       "\n",
       "    .dataframe thead th {\n",
       "        text-align: right;\n",
       "    }\n",
       "</style>\n",
       "<table border=\"1\" class=\"dataframe\">\n",
       "  <thead>\n",
       "    <tr style=\"text-align: right;\">\n",
       "      <th></th>\n",
       "      <th>nama</th>\n",
       "      <th>usia</th>\n",
       "      <th>pekerjaan</th>\n",
       "    </tr>\n",
       "  </thead>\n",
       "  <tbody>\n",
       "    <tr>\n",
       "      <th>0</th>\n",
       "      <td>Steve</td>\n",
       "      <td>12</td>\n",
       "      <td>Data Scientist</td>\n",
       "    </tr>\n",
       "  </tbody>\n",
       "</table>\n",
       "</div>"
      ],
      "text/plain": [
       "    nama  usia       pekerjaan\n",
       "0  Steve    12  Data Scientist"
      ]
     },
     "execution_count": 21,
     "metadata": {},
     "output_type": "execute_result"
    }
   ],
   "source": [
    "pd.DataFrame(response.json())"
   ]
  },
  {
   "cell_type": "markdown",
   "metadata": {},
   "source": [
    "## Task : Endpoint "
   ]
  },
  {
   "cell_type": "markdown",
   "metadata": {},
   "source": [
    "Sebagai tugas dalam capstone ini, buatlah endpoint yang dapat mengembalikan **semua** jenis entitas dari teks yang dikirim. \n",
    "\n",
    "Berikut adalah spesifikasi singkat dari endpoint tersebut\n",
    "- Input : Teks dalam bentuk JSON, dengan raw teks disimpan dalam elemen \"text\" seperti contoh berikut: \n",
    "```python\n",
    "{\n",
    "    \"text\" : \"ini adalah contoh teks yang dikirim\"\n",
    "}\n",
    "```\n",
    "- Output : Bentuk JSON dari dataframe yang berisi 2 kolom (kategori entitas, value). \n",
    "\n",
    "Untuk menyelesaikan task tersebut silakan lengkapi code endpoint berikut lalu tambahkan pada `app.py`"
   ]
  },
  {
   "cell_type": "code",
   "execution_count": 22,
   "metadata": {
    "ExecuteTime": {
     "end_time": "2021-03-05T03:12:51.180866Z",
     "start_time": "2021-03-05T03:12:50.980897Z"
    }
   },
   "outputs": [
    {
     "ename": "NameError",
     "evalue": "name 'app' is not defined",
     "output_type": "error",
     "traceback": [
      "\u001b[0;31m---------------------------------------------------------------------------\u001b[0m",
      "\u001b[0;31mNameError\u001b[0m                                 Traceback (most recent call last)",
      "\u001b[0;32m<ipython-input-22-c17af6650a52>\u001b[0m in \u001b[0;36m<module>\u001b[0;34m\u001b[0m\n\u001b[0;32m----> 1\u001b[0;31m \u001b[0;34m@\u001b[0m\u001b[0mapp\u001b[0m\u001b[0;34m.\u001b[0m\u001b[0mroute\u001b[0m\u001b[0;34m(\u001b[0m\u001b[0;34m'/get_entities'\u001b[0m\u001b[0;34m,\u001b[0m \u001b[0mmethods\u001b[0m\u001b[0;34m=\u001b[0m\u001b[0;34m[\u001b[0m\u001b[0;34m'POST'\u001b[0m\u001b[0;34m]\u001b[0m\u001b[0;34m)\u001b[0m\u001b[0;34m\u001b[0m\u001b[0;34m\u001b[0m\u001b[0m\n\u001b[0m\u001b[1;32m      2\u001b[0m \u001b[0;32mdef\u001b[0m \u001b[0mget_entities\u001b[0m\u001b[0;34m(\u001b[0m\u001b[0;34m)\u001b[0m\u001b[0;34m:\u001b[0m\u001b[0;34m\u001b[0m\u001b[0;34m\u001b[0m\u001b[0m\n\u001b[1;32m      3\u001b[0m \u001b[0;34m\u001b[0m\u001b[0m\n\u001b[1;32m      4\u001b[0m     \u001b[0;31m# ambil data dari json yang diterima endpoint\u001b[0m\u001b[0;34m\u001b[0m\u001b[0;34m\u001b[0m\u001b[0;34m\u001b[0m\u001b[0m\n\u001b[1;32m      5\u001b[0m     \u001b[0mdata\u001b[0m \u001b[0;34m=\u001b[0m \u001b[0mrequest\u001b[0m\u001b[0;34m.\u001b[0m\u001b[0mget_json\u001b[0m\u001b[0;34m(\u001b[0m\u001b[0;34m)\u001b[0m\u001b[0;34m\u001b[0m\u001b[0;34m\u001b[0m\u001b[0m\n",
      "\u001b[0;31mNameError\u001b[0m: name 'app' is not defined"
     ]
    }
   ],
   "source": [
    "@app.route('/get_entities', methods=['POST'])\n",
    "def get_entities():\n",
    "    \n",
    "    # ambil data dari json yang diterima endpoint\n",
    "    data = request.get_json()\n",
    "    \n",
    "    # ambil nilai teks dari data\n",
    "    text = data['text']\n",
    "    \n",
    "    # modelkan teks dengan model scipy \n",
    "    doc = nlp(text)\n",
    "    \n",
    "    # membuat pasangan label dan nilai entitas\n",
    "    d = [(ent.label_, ent.text) for ent in doc.ents]\n",
    "\n",
    "    # transform pasangan label menjadi dataframe \n",
    "    df = pd.DataFrame(d, columns=['category', 'value'])\n",
    "    \n",
    "    return (df.to_json())"
   ]
  },
  {
   "cell_type": "code",
   "execution_count": 23,
   "metadata": {
    "ExecuteTime": {
     "end_time": "2021-03-05T03:12:52.131264Z",
     "start_time": "2021-03-05T03:12:52.070506Z"
    }
   },
   "outputs": [
    {
     "data": {
      "text/plain": [
       "{'category': {'0': 'ORG',\n",
       "  '1': 'ORG',\n",
       "  '2': 'PERSON',\n",
       "  '3': 'PERSON',\n",
       "  '4': 'GPE',\n",
       "  '5': 'PERSON',\n",
       "  '6': 'ORG'},\n",
       " 'value': {'0': 'Algoritma',\n",
       "  '1': 'Capstone API Project',\n",
       "  '2': 'Nicola Tesla',\n",
       "  '3': 'Steve Jobs',\n",
       "  '4': 'Algoritma',\n",
       "  '5': 'Facebook',\n",
       "  '6': 'Apple'}}"
      ]
     },
     "execution_count": 23,
     "metadata": {},
     "output_type": "execute_result"
    }
   ],
   "source": [
    "# Jalankan sintaks berikut untuk menguji endpoint tersebut\n",
    "\n",
    "text = \"\"\"This text is an example used for Algoritma's Capstone API Project. \n",
    "You can use any named entitiy such person name like Nicola Tesla, Steve Jobs, or even Elon Musk. \n",
    "You can also use organization name such Algoritma, Facebook, Apple.\"\"\"\n",
    "\n",
    "data = {\"text\": text}\n",
    "url = 'http://localhost:5000/get_entities'\n",
    "response = requests.request(method='POST', url=url, json=data)\n",
    "response.json()"
   ]
  },
  {
   "cell_type": "code",
   "execution_count": 24,
   "metadata": {
    "ExecuteTime": {
     "end_time": "2021-03-05T03:12:53.426269Z",
     "start_time": "2021-03-05T03:12:53.407365Z"
    }
   },
   "outputs": [
    {
     "data": {
      "text/html": [
       "<div>\n",
       "<style scoped>\n",
       "    .dataframe tbody tr th:only-of-type {\n",
       "        vertical-align: middle;\n",
       "    }\n",
       "\n",
       "    .dataframe tbody tr th {\n",
       "        vertical-align: top;\n",
       "    }\n",
       "\n",
       "    .dataframe thead th {\n",
       "        text-align: right;\n",
       "    }\n",
       "</style>\n",
       "<table border=\"1\" class=\"dataframe\">\n",
       "  <thead>\n",
       "    <tr style=\"text-align: right;\">\n",
       "      <th></th>\n",
       "      <th>category</th>\n",
       "      <th>value</th>\n",
       "    </tr>\n",
       "  </thead>\n",
       "  <tbody>\n",
       "    <tr>\n",
       "      <th>0</th>\n",
       "      <td>ORG</td>\n",
       "      <td>Algoritma</td>\n",
       "    </tr>\n",
       "    <tr>\n",
       "      <th>1</th>\n",
       "      <td>ORG</td>\n",
       "      <td>Capstone API Project</td>\n",
       "    </tr>\n",
       "    <tr>\n",
       "      <th>2</th>\n",
       "      <td>PERSON</td>\n",
       "      <td>Nicola Tesla</td>\n",
       "    </tr>\n",
       "    <tr>\n",
       "      <th>3</th>\n",
       "      <td>PERSON</td>\n",
       "      <td>Steve Jobs</td>\n",
       "    </tr>\n",
       "    <tr>\n",
       "      <th>4</th>\n",
       "      <td>GPE</td>\n",
       "      <td>Algoritma</td>\n",
       "    </tr>\n",
       "    <tr>\n",
       "      <th>5</th>\n",
       "      <td>PERSON</td>\n",
       "      <td>Facebook</td>\n",
       "    </tr>\n",
       "    <tr>\n",
       "      <th>6</th>\n",
       "      <td>ORG</td>\n",
       "      <td>Apple</td>\n",
       "    </tr>\n",
       "  </tbody>\n",
       "</table>\n",
       "</div>"
      ],
      "text/plain": [
       "  category                 value\n",
       "0      ORG             Algoritma\n",
       "1      ORG  Capstone API Project\n",
       "2   PERSON          Nicola Tesla\n",
       "3   PERSON            Steve Jobs\n",
       "4      GPE             Algoritma\n",
       "5   PERSON              Facebook\n",
       "6      ORG                 Apple"
      ]
     },
     "execution_count": 24,
     "metadata": {},
     "output_type": "execute_result"
    }
   ],
   "source": [
    "pd.DataFrame(response.json())"
   ]
  },
  {
   "cell_type": "markdown",
   "metadata": {},
   "source": [
    "## Task Endpoint (bonus)"
   ]
  },
  {
   "cell_type": "markdown",
   "metadata": {},
   "source": [
    "Jika dilihat dari hasil kembalian endpoint sebelumnya nilai return JSON yang dihasilkan sedikit tidak lazim, dimana sewajarnya nilai setiap entitas dikelompokkan sebagai values kedalam setiap kategori. \n",
    "\n",
    "\n",
    "**Bonus Task** : Buatlah endpoint `'/get_entities_normalized'` yang menghasilkan JSON dengan key jenis kategori entitas, dan value berupa list dari entitas dengan kategori yang bersangkutan. Berikut ilustrasi dari nilai return endpoint yang diinginkan :  \n",
    "\n",
    "```python\n",
    "{category1 : [value1, value2, ... , valuen],\n",
    " category2 : [value1, value2, ... , valuen],}\n",
    "```"
   ]
  },
  {
   "cell_type": "code",
   "execution_count": 25,
   "metadata": {
    "ExecuteTime": {
     "end_time": "2021-03-05T03:12:55.869260Z",
     "start_time": "2021-03-05T03:12:55.804694Z"
    }
   },
   "outputs": [
    {
     "data": {
      "text/plain": [
       "{'ORG': ['Algoritma', 'Capstone API Project', 'Apple'],\n",
       " 'PERSON': ['Nicola Tesla', 'Steve Jobs', 'Facebook'],\n",
       " 'GPE': ['Algoritma']}"
      ]
     },
     "execution_count": 25,
     "metadata": {},
     "output_type": "execute_result"
    }
   ],
   "source": [
    "# Jalankan sintaks ini untuk menguji endpoint tersebut\n",
    "url = 'http://localhost:5000/get_entities_normalized'\n",
    "response = requests.request(method='POST', url=url, json=data)\n",
    "response.json()"
   ]
  },
  {
   "cell_type": "markdown",
   "metadata": {},
   "source": [
    "# Deployment ke remote host"
   ]
  },
  {
   "cell_type": "markdown",
   "metadata": {},
   "source": [
    "## Upload code ke git repository (github)\n",
    "\n",
    "1. Membuat repositori baru \n",
    "2. Mengupload file ke repositori baru dan commit changes"
   ]
  },
  {
   "cell_type": "markdown",
   "metadata": {},
   "source": [
    "## Create Heroku App\n",
    "\n",
    "1. Membuat aplikasi baru\n",
    "2. Menyambungkan repositori github kedalam aplikasi baru \n",
    "3. Melakukan deployment"
   ]
  }
 ],
 "metadata": {
  "kernelspec": {
   "display_name": "dwv-newton",
   "language": "python",
   "name": "dwv-newton"
  },
  "language_info": {
   "codemirror_mode": {
    "name": "ipython",
    "version": 3
   },
   "file_extension": ".py",
   "mimetype": "text/x-python",
   "name": "python",
   "nbconvert_exporter": "python",
   "pygments_lexer": "ipython3",
   "version": "3.7.4"
  },
  "toc": {
   "base_numbering": 1,
   "nav_menu": {},
   "number_sections": true,
   "sideBar": true,
   "skip_h1_title": false,
   "title_cell": "Table of Contents",
   "title_sidebar": "Contents",
   "toc_cell": false,
   "toc_position": {},
   "toc_section_display": true,
   "toc_window_display": true
  },
  "toc-autonumbering": true
 },
 "nbformat": 4,
 "nbformat_minor": 4
}
